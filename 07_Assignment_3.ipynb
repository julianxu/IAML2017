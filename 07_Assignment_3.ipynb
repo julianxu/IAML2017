{
 "cells": [
  {
   "cell_type": "markdown",
   "metadata": {},
   "source": [
    "# Introductory applied machine learning (INFR10069)"
   ]
  },
  {
   "cell_type": "markdown",
   "metadata": {},
   "source": [
    "# Assignment 3: Object recognition"
   ]
  },
  {
   "cell_type": "markdown",
   "metadata": {},
   "source": [
    "## Marking Breakdown\n",
    "\n",
    "**70-100%** results/answer correct plus extra achievement at understanding or analysis of results. Clear explanations, evidence of creative or deeper thought will contribute to a higher grade.\n",
    "\n",
    "**60-69%** results/answer correct or nearly correct and well explained.\n",
    "\n",
    "**50-59%** results/answer in right direction but significant errors.\n",
    "\n",
    "**40-49%** some evidence that the student has gained some understanding, but not answered the questions\n",
    "properly.\n",
    "\n",
    "**0-39%** serious error or slack work."
   ]
  },
  {
   "cell_type": "markdown",
   "metadata": {},
   "source": [
    "## Mechanics\n",
    "\n",
    "Fill out this notebook, save it, and submit it **and a `.txt` file** (see Part 2) in answer to this assignment.\n",
    "**You need to submit these two files electronically as described below.**\n",
    "\n",
    "On a DICE environment, open the terminal, navigate to the location of this notebook, and submit this notebook file using the following command:\n",
    "\n",
    "`submit iaml cw2 07_Assignment_3.ipynb assignment_3_predictions.txt`\n",
    "\n",
    "What actually happens in the background is that your file is placed in a folder available to markers. If you submit a file with the same name into the same location, **it will *overwrite* your previous submission**. You can check the status of your submissions with the `show_submissions` command.\n",
    "\n",
    "**Distance Learners:** To copy your work up to DICE (such that you can use the `submit` command) you can use `scp` or `rsync` (you may need to install these yourself). You can copy files up using `student.ssh.inf.ed.ac.uk`, then ssh in to submit, e.g. (in a unix terminal):\n",
    "```\n",
    "filename1=07_Assignment_3.ipynb\n",
    "local_scp_filepath1=~/git/iaml2017/${filename1}\n",
    "filename2=assignment_3_predictions.txt\n",
    "local_scp_filepath2=~/git/iaml2017/${filename2}\n",
    "UUN=s0816700\n",
    "server_address=student.ssh.inf.ed.ac.uk\n",
    "scp -r ${local_scp_filepath1} ${UUN}@${server_address}:${filename1}\n",
    "scp -r ${local_scp_filepath2} ${UUN}@${server_address}:${filename2}\n",
    "# rsync -rl ${local_scp_filepath1} ${UUN}@${server_address}:${filename1}\n",
    "# rsync -rl ${local_scp_filepath2} ${UUN}@${server_address}:${filename2}\n",
    "ssh ${UUN}@${server_address}\n",
    "ssh student.login\n",
    "submit iaml cw2 07_Assignment_3.ipynb assignment_3_predictions.txt\n",
    "```\n",
    "\n",
    "**Late submissions:** The policy stated in the School of Informatics MSc Degree Guide is that normally you will not be allowed to submit coursework late. See http://www.inf.ed.ac.uk/teaching/years/msc/courseguide10.html#exam for exceptions to this, e.g. in case of serious medical illness or serious personal problems.\n",
    "\n",
    "**Collaboration:** You may discuss the assignment with your colleagues, provided that the writing that you submit is entirely your own. That is, you should NOT borrow actual text or code from other students. We ask that you provide a list of the people who you've had discussions with (if any).\n",
    "\n",
    "**Resubmission:** If you submit your file again, the previous submission is **overwritten**. We will mark the version that is in the submission folder at the deadline."
   ]
  },
  {
   "cell_type": "markdown",
   "metadata": {},
   "source": [
    "## Important Instructions\n",
    "\n",
    "1. You *MUST* have your environment set up as in the [README](https://github.com/JamesOwers/iaml2017) and you *must activate this environment before running this notebook*:\n",
    "```\n",
    "source activate iaml\n",
    "cd iaml_2017\n",
    "jupyter notebook\n",
    "# Navigate to this file\n",
    "```\n",
    "\n",
    "1. Wherever you are required to produce code you should use code cells, otherwise you should use markdown cells to report results and explain answers.\n",
    "\n",
    "1. The .csv files that you will be using are located at `./datasets` (the `datasets` directory is adjacent to this file).\n",
    "\n",
    "1. **IMPORTANT:** Keep your answers brief and concise. Most written questions can be answered with 2-3 lines of explanation."
   ]
  },
  {
   "cell_type": "markdown",
   "metadata": {},
   "source": [
    "## Imports\n",
    "\n",
    "Include all required imports and execute the cell below. It's typical to include package imports at the top of the file for clarity."
   ]
  },
  {
   "cell_type": "code",
   "execution_count": 371,
   "metadata": {
    "collapsed": true
   },
   "outputs": [],
   "source": [
    "from __future__ import print_function, division\n",
    "\n",
    "import os\n",
    "import numpy as np \n",
    "import pandas as pd\n",
    "import matplotlib.pyplot as plt\n",
    "import seaborn as sns\n",
    "\n",
    "from sklearn.linear_model import LogisticRegression\n",
    "from sklearn.linear_model import LogisticRegressionCV\n",
    "from sklearn.preprocessing import StandardScaler\n",
    "from sklearn.cross_validation import KFold\n",
    "from sklearn.cross_validation import cross_val_score\n",
    "from sklearn.ensemble import RandomForestClassifier\n",
    "from sklearn.svm import SVC\n",
    "from sklearn.metrics import log_loss\n",
    "\n",
    "from sklearn.neighbors import KNeighborsClassifier\n",
    "from sklearn.decomposition import PCA\n",
    "\n",
    "%matplotlib inline\n",
    "\n",
    "# Your code goes here"
   ]
  },
  {
   "cell_type": "markdown",
   "metadata": {},
   "source": [
    "## Description of the dataset\n",
    "In this assignment our goal is to recognize objects in images of realistic scenes. There are 19 different classes of object e.g. person, dog, cat, car, etc. The dataset derives from several thousands photographs harvested from the web. Each object of a relevant class has been manually annotated with a bounding box. Images can contain none, one or multiple objects of each class. We have prepared a [website](http://www.inf.ed.ac.uk/teaching/courses/iaml/2014/assts/asst3/images.html) where you can view the images.\n",
    "\n",
    "We are going to detect whether images contain a person or not - a binary classification problem. To save you time and to make the problem manageable with limited computational resources, we have preprocessed the dataset. We will use the [Bag of Visual Words](https://en.wikipedia.org/wiki/Bag-of-words_model_in_computer_vision) representation. Each column of the dataset (which is not an lable), refers to a 'visual word'. Each image is represented by a 500 dimensional vector that contains the normalized count for each of 500 different visual words present in the respective image (a similar representation is used for the spambase dataset, just for real words). See the Appendix at the bottom of the notebook for more information. The image data is thus a $N \\times 500$ dimensional matrix where `N` is the number of images.\n",
    "\n",
    "The full dataset has 520 attributes (dimensions). The first attribute (`imgID`) contains the image ID which allows you to associate a data point with an actual image. The next 500 attributes (`dim1`, ..., `dim500`) are a normalized count vector for each visual word. The last 19 attributes (`is_class`) are the labels - 1 means the class is present in the image. In most of the experiments (unless explicitly noted otherwise) you will only need the `is_person` attribute and the 500 dimensional feature vector. **Do not use the additional class indicator attributes as features** unless explicitly told to do so. \n",
    "\n",
    "In Part A we provide you with a training (`train_images partA.csv`) and a validation (`valid_images partA .csv`) dataset. In Part B we provide three data sets: a training set (`train_images partB.csv`), a validation set (`valid_images partB.csv`), and a test set (`test_images partB.csv`). The training and validation set contain valid labels. In the test set the labels are missing. The files are available from the GitHub repository. \n",
    "\n",
    "**Important**: *Throughout the assignment you will be given various versions of the dataset that are relevant\n",
    "to a particular question. Please be careful to use the correct version of the dataset when instructed to do so.\n",
    "If you use the wrong version of the dataset by mistake no marks will be awarded.*"
   ]
  },
  {
   "cell_type": "markdown",
   "metadata": {},
   "source": [
    "## 1. Exploration of the dataset [70%]"
   ]
  },
  {
   "cell_type": "markdown",
   "metadata": {},
   "source": [
    "### ========== Question 1.1 --- [1 mark] ==========\n",
    "Create two Pandas DataFrame objects called `train_A` and `valid_A` by loading the datasets `train_images_partA.csv` and `valid_images_partA.csv`. Display the number of data points and attributes in each of the two datasets."
   ]
  },
  {
   "cell_type": "code",
   "execution_count": 372,
   "metadata": {},
   "outputs": [
    {
     "name": "stdout",
     "output_type": "stream",
     "text": [
      "Number of Datapoints, Attributes in train_A: (2093, 520)\n",
      "Number of Datapoints, Atrributes in valid_A: (1113, 520)\n"
     ]
    }
   ],
   "source": [
    "data_path = os.path.join(os.getcwd(), 'datasets', 'train_images_partA.csv')\n",
    "train_A = pd.read_csv(data_path, delimiter = ',')\n",
    "\n",
    "data_path = os.path.join(os.getcwd(), 'datasets', 'valid_images_partA.csv')\n",
    "valid_A = pd.read_csv(data_path, delimiter = ',')\n",
    "\n",
    "print(\"Number of Datapoints, Attributes in train_A:\", train_A.shape)\n",
    "print(\"Number of Datapoints, Atrributes in valid_A:\", valid_A.shape)"
   ]
  },
  {
   "cell_type": "markdown",
   "metadata": {},
   "source": [
    "### ========== Question 1.2 --- [1 mark] ==========\n",
    "Display and inspect the first 10 instances in the training dataset."
   ]
  },
  {
   "cell_type": "code",
   "execution_count": 373,
   "metadata": {},
   "outputs": [
    {
     "data": {
      "text/html": [
       "<div>\n",
       "<style>\n",
       "    .dataframe thead tr:only-child th {\n",
       "        text-align: right;\n",
       "    }\n",
       "\n",
       "    .dataframe thead th {\n",
       "        text-align: left;\n",
       "    }\n",
       "\n",
       "    .dataframe tbody tr th {\n",
       "        vertical-align: top;\n",
       "    }\n",
       "</style>\n",
       "<table border=\"1\" class=\"dataframe\">\n",
       "  <thead>\n",
       "    <tr style=\"text-align: right;\">\n",
       "      <th></th>\n",
       "      <th>imgId</th>\n",
       "      <th>dim1</th>\n",
       "      <th>dim2</th>\n",
       "      <th>dim3</th>\n",
       "      <th>dim4</th>\n",
       "      <th>dim5</th>\n",
       "      <th>dim6</th>\n",
       "      <th>dim7</th>\n",
       "      <th>dim8</th>\n",
       "      <th>dim9</th>\n",
       "      <th>...</th>\n",
       "      <th>is_cow</th>\n",
       "      <th>is_diningtable</th>\n",
       "      <th>is_dog</th>\n",
       "      <th>is_horse</th>\n",
       "      <th>is_motorbike</th>\n",
       "      <th>is_person</th>\n",
       "      <th>is_pottedplant</th>\n",
       "      <th>is_sheep</th>\n",
       "      <th>is_sofa</th>\n",
       "      <th>is_tvmonitor</th>\n",
       "    </tr>\n",
       "  </thead>\n",
       "  <tbody>\n",
       "    <tr>\n",
       "      <th>0</th>\n",
       "      <td>2008_000008</td>\n",
       "      <td>0.002232</td>\n",
       "      <td>0.000558</td>\n",
       "      <td>0.002790</td>\n",
       "      <td>0.000837</td>\n",
       "      <td>0.001674</td>\n",
       "      <td>0.001953</td>\n",
       "      <td>0.001395</td>\n",
       "      <td>0.002232</td>\n",
       "      <td>0.003627</td>\n",
       "      <td>...</td>\n",
       "      <td>0</td>\n",
       "      <td>0</td>\n",
       "      <td>0</td>\n",
       "      <td>1</td>\n",
       "      <td>0</td>\n",
       "      <td>1</td>\n",
       "      <td>0</td>\n",
       "      <td>0</td>\n",
       "      <td>0</td>\n",
       "      <td>0</td>\n",
       "    </tr>\n",
       "    <tr>\n",
       "      <th>1</th>\n",
       "      <td>2008_000015</td>\n",
       "      <td>0.001563</td>\n",
       "      <td>0.000391</td>\n",
       "      <td>0.007422</td>\n",
       "      <td>0.003516</td>\n",
       "      <td>0.003906</td>\n",
       "      <td>0.005078</td>\n",
       "      <td>0.001953</td>\n",
       "      <td>0.002344</td>\n",
       "      <td>0.001953</td>\n",
       "      <td>...</td>\n",
       "      <td>0</td>\n",
       "      <td>0</td>\n",
       "      <td>0</td>\n",
       "      <td>0</td>\n",
       "      <td>0</td>\n",
       "      <td>0</td>\n",
       "      <td>0</td>\n",
       "      <td>0</td>\n",
       "      <td>0</td>\n",
       "      <td>0</td>\n",
       "    </tr>\n",
       "    <tr>\n",
       "      <th>2</th>\n",
       "      <td>2008_000019</td>\n",
       "      <td>0.000521</td>\n",
       "      <td>0.000000</td>\n",
       "      <td>0.000000</td>\n",
       "      <td>0.001042</td>\n",
       "      <td>0.001563</td>\n",
       "      <td>0.005729</td>\n",
       "      <td>0.000521</td>\n",
       "      <td>0.002083</td>\n",
       "      <td>0.003646</td>\n",
       "      <td>...</td>\n",
       "      <td>0</td>\n",
       "      <td>0</td>\n",
       "      <td>1</td>\n",
       "      <td>0</td>\n",
       "      <td>0</td>\n",
       "      <td>0</td>\n",
       "      <td>0</td>\n",
       "      <td>0</td>\n",
       "      <td>0</td>\n",
       "      <td>0</td>\n",
       "    </tr>\n",
       "    <tr>\n",
       "      <th>3</th>\n",
       "      <td>2008_000023</td>\n",
       "      <td>0.002976</td>\n",
       "      <td>0.002232</td>\n",
       "      <td>0.004464</td>\n",
       "      <td>0.000372</td>\n",
       "      <td>0.000372</td>\n",
       "      <td>0.002232</td>\n",
       "      <td>0.000000</td>\n",
       "      <td>0.003720</td>\n",
       "      <td>0.000000</td>\n",
       "      <td>...</td>\n",
       "      <td>0</td>\n",
       "      <td>0</td>\n",
       "      <td>0</td>\n",
       "      <td>0</td>\n",
       "      <td>0</td>\n",
       "      <td>1</td>\n",
       "      <td>0</td>\n",
       "      <td>0</td>\n",
       "      <td>0</td>\n",
       "      <td>1</td>\n",
       "    </tr>\n",
       "    <tr>\n",
       "      <th>4</th>\n",
       "      <td>2008_000028</td>\n",
       "      <td>0.001359</td>\n",
       "      <td>0.000340</td>\n",
       "      <td>0.001359</td>\n",
       "      <td>0.000340</td>\n",
       "      <td>0.001359</td>\n",
       "      <td>0.002038</td>\n",
       "      <td>0.002378</td>\n",
       "      <td>0.000000</td>\n",
       "      <td>0.003397</td>\n",
       "      <td>...</td>\n",
       "      <td>0</td>\n",
       "      <td>0</td>\n",
       "      <td>0</td>\n",
       "      <td>0</td>\n",
       "      <td>0</td>\n",
       "      <td>0</td>\n",
       "      <td>0</td>\n",
       "      <td>0</td>\n",
       "      <td>0</td>\n",
       "      <td>0</td>\n",
       "    </tr>\n",
       "    <tr>\n",
       "      <th>5</th>\n",
       "      <td>2008_000033</td>\n",
       "      <td>0.000000</td>\n",
       "      <td>0.006324</td>\n",
       "      <td>0.000372</td>\n",
       "      <td>0.000372</td>\n",
       "      <td>0.000372</td>\n",
       "      <td>0.000372</td>\n",
       "      <td>0.000744</td>\n",
       "      <td>0.008185</td>\n",
       "      <td>0.000372</td>\n",
       "      <td>...</td>\n",
       "      <td>0</td>\n",
       "      <td>0</td>\n",
       "      <td>0</td>\n",
       "      <td>0</td>\n",
       "      <td>0</td>\n",
       "      <td>0</td>\n",
       "      <td>0</td>\n",
       "      <td>0</td>\n",
       "      <td>0</td>\n",
       "      <td>0</td>\n",
       "    </tr>\n",
       "    <tr>\n",
       "      <th>6</th>\n",
       "      <td>2008_000036</td>\n",
       "      <td>0.000340</td>\n",
       "      <td>0.000000</td>\n",
       "      <td>0.004416</td>\n",
       "      <td>0.000340</td>\n",
       "      <td>0.000679</td>\n",
       "      <td>0.006114</td>\n",
       "      <td>0.001359</td>\n",
       "      <td>0.002717</td>\n",
       "      <td>0.003057</td>\n",
       "      <td>...</td>\n",
       "      <td>0</td>\n",
       "      <td>0</td>\n",
       "      <td>0</td>\n",
       "      <td>0</td>\n",
       "      <td>0</td>\n",
       "      <td>1</td>\n",
       "      <td>0</td>\n",
       "      <td>0</td>\n",
       "      <td>0</td>\n",
       "      <td>0</td>\n",
       "    </tr>\n",
       "    <tr>\n",
       "      <th>7</th>\n",
       "      <td>2008_000037</td>\n",
       "      <td>0.000837</td>\n",
       "      <td>0.002232</td>\n",
       "      <td>0.000279</td>\n",
       "      <td>0.000279</td>\n",
       "      <td>0.000837</td>\n",
       "      <td>0.000000</td>\n",
       "      <td>0.000279</td>\n",
       "      <td>0.006696</td>\n",
       "      <td>0.000000</td>\n",
       "      <td>...</td>\n",
       "      <td>0</td>\n",
       "      <td>0</td>\n",
       "      <td>0</td>\n",
       "      <td>0</td>\n",
       "      <td>0</td>\n",
       "      <td>0</td>\n",
       "      <td>0</td>\n",
       "      <td>0</td>\n",
       "      <td>0</td>\n",
       "      <td>0</td>\n",
       "    </tr>\n",
       "    <tr>\n",
       "      <th>8</th>\n",
       "      <td>2008_000041</td>\n",
       "      <td>0.002378</td>\n",
       "      <td>0.001359</td>\n",
       "      <td>0.004755</td>\n",
       "      <td>0.001019</td>\n",
       "      <td>0.003736</td>\n",
       "      <td>0.001359</td>\n",
       "      <td>0.001019</td>\n",
       "      <td>0.004076</td>\n",
       "      <td>0.003397</td>\n",
       "      <td>...</td>\n",
       "      <td>0</td>\n",
       "      <td>1</td>\n",
       "      <td>0</td>\n",
       "      <td>0</td>\n",
       "      <td>0</td>\n",
       "      <td>1</td>\n",
       "      <td>0</td>\n",
       "      <td>0</td>\n",
       "      <td>0</td>\n",
       "      <td>0</td>\n",
       "    </tr>\n",
       "    <tr>\n",
       "      <th>9</th>\n",
       "      <td>2008_000045</td>\n",
       "      <td>0.001019</td>\n",
       "      <td>0.000340</td>\n",
       "      <td>0.006454</td>\n",
       "      <td>0.001698</td>\n",
       "      <td>0.001359</td>\n",
       "      <td>0.003736</td>\n",
       "      <td>0.000000</td>\n",
       "      <td>0.004076</td>\n",
       "      <td>0.000000</td>\n",
       "      <td>...</td>\n",
       "      <td>0</td>\n",
       "      <td>0</td>\n",
       "      <td>0</td>\n",
       "      <td>0</td>\n",
       "      <td>0</td>\n",
       "      <td>0</td>\n",
       "      <td>0</td>\n",
       "      <td>0</td>\n",
       "      <td>0</td>\n",
       "      <td>0</td>\n",
       "    </tr>\n",
       "  </tbody>\n",
       "</table>\n",
       "<p>10 rows × 520 columns</p>\n",
       "</div>"
      ],
      "text/plain": [
       "         imgId      dim1      dim2      dim3      dim4      dim5      dim6  \\\n",
       "0  2008_000008  0.002232  0.000558  0.002790  0.000837  0.001674  0.001953   \n",
       "1  2008_000015  0.001563  0.000391  0.007422  0.003516  0.003906  0.005078   \n",
       "2  2008_000019  0.000521  0.000000  0.000000  0.001042  0.001563  0.005729   \n",
       "3  2008_000023  0.002976  0.002232  0.004464  0.000372  0.000372  0.002232   \n",
       "4  2008_000028  0.001359  0.000340  0.001359  0.000340  0.001359  0.002038   \n",
       "5  2008_000033  0.000000  0.006324  0.000372  0.000372  0.000372  0.000372   \n",
       "6  2008_000036  0.000340  0.000000  0.004416  0.000340  0.000679  0.006114   \n",
       "7  2008_000037  0.000837  0.002232  0.000279  0.000279  0.000837  0.000000   \n",
       "8  2008_000041  0.002378  0.001359  0.004755  0.001019  0.003736  0.001359   \n",
       "9  2008_000045  0.001019  0.000340  0.006454  0.001698  0.001359  0.003736   \n",
       "\n",
       "       dim7      dim8      dim9      ...       is_cow  is_diningtable  is_dog  \\\n",
       "0  0.001395  0.002232  0.003627      ...            0               0       0   \n",
       "1  0.001953  0.002344  0.001953      ...            0               0       0   \n",
       "2  0.000521  0.002083  0.003646      ...            0               0       1   \n",
       "3  0.000000  0.003720  0.000000      ...            0               0       0   \n",
       "4  0.002378  0.000000  0.003397      ...            0               0       0   \n",
       "5  0.000744  0.008185  0.000372      ...            0               0       0   \n",
       "6  0.001359  0.002717  0.003057      ...            0               0       0   \n",
       "7  0.000279  0.006696  0.000000      ...            0               0       0   \n",
       "8  0.001019  0.004076  0.003397      ...            0               1       0   \n",
       "9  0.000000  0.004076  0.000000      ...            0               0       0   \n",
       "\n",
       "   is_horse  is_motorbike  is_person  is_pottedplant  is_sheep  is_sofa  \\\n",
       "0         1             0          1               0         0        0   \n",
       "1         0             0          0               0         0        0   \n",
       "2         0             0          0               0         0        0   \n",
       "3         0             0          1               0         0        0   \n",
       "4         0             0          0               0         0        0   \n",
       "5         0             0          0               0         0        0   \n",
       "6         0             0          1               0         0        0   \n",
       "7         0             0          0               0         0        0   \n",
       "8         0             0          1               0         0        0   \n",
       "9         0             0          0               0         0        0   \n",
       "\n",
       "   is_tvmonitor  \n",
       "0             0  \n",
       "1             0  \n",
       "2             0  \n",
       "3             1  \n",
       "4             0  \n",
       "5             0  \n",
       "6             0  \n",
       "7             0  \n",
       "8             0  \n",
       "9             0  \n",
       "\n",
       "[10 rows x 520 columns]"
      ]
     },
     "execution_count": 373,
     "metadata": {},
     "output_type": "execute_result"
    }
   ],
   "source": [
    "# Your code goes here\n",
    "train_A.head(10)"
   ]
  },
  {
   "cell_type": "markdown",
   "metadata": {},
   "source": [
    "### ========== Question 1.3 --- [1 mark] ==========\n",
    "Select the attributes (i.e. input features) for training our classifiers. These should be the visual word normalised counts `dim1, dim2, ..., dim500`. Create a list of the **names** of the attributes of interest. "
   ]
  },
  {
   "cell_type": "code",
   "execution_count": 374,
   "metadata": {
    "collapsed": true
   },
   "outputs": [],
   "source": [
    "#creating list of names of only attributes of interest\n",
    "aoi_names = train_A.columns[1:501]\n",
    "#aoi_names.shape"
   ]
  },
  {
   "cell_type": "markdown",
   "metadata": {},
   "source": [
    "### ========== Question 1.4 --- [1 mark] ==========\n",
    "By using the list from Question 1.3 now create 4 numpy arrays `X_tr`, `X_val`, `y_tr` and `y_val` in which to store the training features, validation features, training targets, and validation targets, respectively. Your target vectors should correspond to the `is_person` attribute of the training and validation sets. Display the dimensionalities (i.e shapes) of the 4 arrays. \n",
    "\n",
    "Check this carefully - you will be penalised in following questions if the data is not correct!"
   ]
  },
  {
   "cell_type": "code",
   "execution_count": 375,
   "metadata": {},
   "outputs": [
    {
     "name": "stdout",
     "output_type": "stream",
     "text": [
      "X_tr shape: (2093, 500)\n",
      "X_val shape: (1113, 500)\n",
      "y_tr shape: (2093,)\n",
      "y_val shape: (1113,)\n"
     ]
    }
   ],
   "source": [
    "X_tr = train_A[aoi_names]\n",
    "X_val = valid_A[aoi_names]\n",
    "\n",
    "y_tr = train_A['is_person']\n",
    "y_val = valid_A['is_person']\n",
    "\n",
    "print(\"X_tr shape:\", X_tr.shape)\n",
    "print(\"X_val shape:\", X_val.shape)\n",
    "print(\"y_tr shape:\", y_tr.shape)\n",
    "print(\"y_val shape:\", y_val.shape)"
   ]
  },
  {
   "cell_type": "markdown",
   "metadata": {},
   "source": [
    "### ========== Question 1.5 --- [2 marks] ==========\n",
    "Create a [countplots](https://seaborn.github.io/generated/seaborn.countplot.html?highlight=countplot#seaborn.countplot) for the training and validation targets. Create a single figure, and put the two plots inside the single figure. Label axes appropriately and add a title to your plot. Use descriptive `xticklabels` instead of the default numeric ones."
   ]
  },
  {
   "cell_type": "code",
   "execution_count": 376,
   "metadata": {},
   "outputs": [
    {
     "data": {
      "image/png": "[encoded data removed]",
      "text/plain": [
       "<matplotlib.figure.Figure at 0x1a219f6810>"
      ]
     },
     "metadata": {},
     "output_type": "display_data"
    }
   ],
   "source": [
    "f, (ax1, ax2) = plt.subplots(1,2, sharey=True)\n",
    "training_graph=sns.countplot(x=y_tr, ax=ax1)\n",
    "training_graph.set(xticklabels=['No Person','Person'],title='Training')\n",
    "\n",
    "validation_graph=sns.countplot(x=y_val, ax=ax2)\n",
    "validation_graph.set(xticklabels=['No Person','Person'],title='Validation')\n",
    "plt.suptitle('Number of Pictures with a Person')\n",
    "plt.show()"
   ]
  },
  {
   "cell_type": "markdown",
   "metadata": {},
   "source": [
    "### ========== Question 1.6 --- [1 mark] ==========\n",
    "We want to make a baseline classification accuracy to beat. Pick a baseline \"dummy\" classifier, describe in a sentence why you chose it, and report the accuracy it achieves on the validation set?"
   ]
  },
  {
   "cell_type": "markdown",
   "metadata": {},
   "source": [
    "A simple dummy classifier would always classify a picture as containing no person, or is_person = 0. This is because there are more pictures overall without a person than with, and should give us a classification accuracy of over 50%. "
   ]
  },
  {
   "cell_type": "code",
   "execution_count": 377,
   "metadata": {},
   "outputs": [
    {
     "name": "stdout",
     "output_type": "stream",
     "text": [
      "Simple Classification Accuracy: 0.526504941599\n"
     ]
    }
   ],
   "source": [
    "no_person = y_val[y_val==0]\n",
    "accuracy = no_person.shape[0]/y_val.shape[0]\n",
    "print(\"Simple Classification Accuracy:\", accuracy)\n"
   ]
  },
  {
   "cell_type": "markdown",
   "metadata": {},
   "source": [
    "### ========== Question 1.7 --- [3 marks] ==========\n",
    "Train a [`LogisticRegression`](http://scikit-learn.org/0.17/modules/generated/sklearn.linear_model.LogisticRegression.html) classifier using default settings, except for the `solver` parameter which you should set to `lbfgs`. Report the classification accuracy score on the training and validation sets and compare with the baseline. Comment on the results with 1-2 sentences. You may include any additional plot(s) if you wish to justify your explanation."
   ]
  },
  {
   "cell_type": "code",
   "execution_count": 378,
   "metadata": {},
   "outputs": [
    {
     "name": "stdout",
     "output_type": "stream",
     "text": [
      "Training set classification accuracy: 0.55088389871\n",
      "Validation set classification accuracy: 0.526504941599\n"
     ]
    }
   ],
   "source": [
    "lr = LogisticRegression(solver='lbfgs')\n",
    "lr.fit(X_tr, y_tr)\n",
    "\n",
    "print(\"Training set classification accuracy:\", lr.score(X_tr,y_tr))\n",
    "print(\"Validation set classification accuracy:\", lr.score(X_val,y_val))"
   ]
  },
  {
   "cell_type": "markdown",
   "metadata": {},
   "source": [
    "The logistic regression classifier performs poorly, almost an identical accuracy with our baseline classifier on our validation set. This could mean our data has no linear correlation. "
   ]
  },
  {
   "cell_type": "markdown",
   "metadata": {},
   "source": [
    "### ========== Question 1.8 --- [1 mark] ==========\n",
    "Display the means and standard deviations of the first 5 features in the training set. *Hint: you want to compute the means and standard deviations for each column in your arrays. Make sure you make appropriate use of the `axis` parameter.*"
   ]
  },
  {
   "cell_type": "code",
   "execution_count": 379,
   "metadata": {},
   "outputs": [
    {
     "name": "stdout",
     "output_type": "stream",
     "text": [
      "\n",
      "Feature: 1\n",
      "Mean: 0.00175057763975\n",
      "Standard Deviation 0.00119280957996\n",
      "\n",
      "Feature: 2\n",
      "Mean: 0.00075592259914\n",
      "Standard Deviation 0.00140603535813\n",
      "\n",
      "Feature: 3\n",
      "Mean: 0.00431694792164\n",
      "Standard Deviation 0.00369255321049\n",
      "\n",
      "Feature: 4\n",
      "Mean: 0.00185277926421\n",
      "Standard Deviation 0.0013401712447\n",
      "\n",
      "Feature: 5\n",
      "Mean: 0.00227247539417\n",
      "Standard Deviation 0.00159773182069\n"
     ]
    }
   ],
   "source": [
    "# Your code goes here\n",
    "\n",
    "for i in range(0,5):\n",
    "    mean = np.mean(X_tr[X_tr.columns[i]], axis=0)\n",
    "    std = np.std(X_tr[X_tr.columns[i]], axis=0)\n",
    "    print(\"\\nFeature:\", i+1)\n",
    "    print(\"Mean:\", mean)\n",
    "    print(\"Standard Deviation\", std)"
   ]
  },
  {
   "cell_type": "markdown",
   "metadata": {},
   "source": [
    "### ========== Question 1.9 --- [3 marks] ==========\n",
    "Feature standardisation is a pre-processing technique used to transform data so that they have zero mean and unit standard deviation. For many algorithms, this is a very important step for training models (both regression and classification). Read about [feature standardisation](http://scikit-learn.org/0.17/modules/preprocessing.html) and make sure you understand what kind of transformation this method applies to the data.\n",
    "\n",
    "`Scikit-learn` offers a [class](http://scikit-learn.org/0.17/modules/generated/sklearn.preprocessing.StandardScaler.html) for feature standardisation. Instansiate a StandardScaler object and fit it using the **training features**. Use this fitted object to transform both your training and validation features to have a standard scale. \n",
    "\n",
    "Once your training and validation input data have been transformed, display the means and standard deviations of the first 5 attributes for **both** the training and validation sets. Are the results as you expected? Explain your answer in 2-3 sentences. Why didn't we use the validation set to standardise the data?\n",
    "\n",
    "**IMPORTANT: You should use the transformed data for the rest of this part.**"
   ]
  },
  {
   "cell_type": "code",
   "execution_count": 380,
   "metadata": {},
   "outputs": [
    {
     "name": "stdout",
     "output_type": "stream",
     "text": [
      "Scaled Training Set\n",
      "\n",
      "Feature: 1\n",
      "Mean: -3.39485301367e-17\n",
      "Standard Deviation 1.0\n",
      "\n",
      "Feature: 2\n",
      "Mean: -2.20665445888e-17\n",
      "Standard Deviation 1.0\n",
      "\n",
      "Feature: 3\n",
      "Mean: 2.44429416984e-16\n",
      "Standard Deviation 1.0\n",
      "\n",
      "Feature: 4\n",
      "Mean: 1.42583826574e-16\n",
      "Standard Deviation 1.0\n",
      "\n",
      "Feature: 5\n",
      "Mean: -5.77125012323e-17\n",
      "Standard Deviation 1.0\n",
      "\n",
      "Scaled Validation Set\n",
      "\n",
      "Feature: 1\n",
      "Mean: -0.00550612324325\n",
      "Standard Deviation 1.0131088626\n",
      "\n",
      "Feature: 2\n",
      "Mean: -0.0382933020105\n",
      "Standard Deviation 0.969819492563\n",
      "\n",
      "Feature: 3\n",
      "Mean: 0.109150976593\n",
      "Standard Deviation 1.04922849828\n",
      "\n",
      "Feature: 4\n",
      "Mean: 0.0936931390572\n",
      "Standard Deviation 1.05684478815\n",
      "\n",
      "Feature: 5\n",
      "Mean: 0.0305784372474\n",
      "Standard Deviation 0.974713362919\n"
     ]
    }
   ],
   "source": [
    "# Your code goes here\n",
    "scaler = StandardScaler().fit(X_tr)\n",
    "\n",
    "X_tr = scaler.transform(X_tr)\n",
    "X_val = scaler.transform(X_val)\n",
    "\n",
    "print(\"Scaled Training Set\")\n",
    "for i in range(0,5):\n",
    "    mean = np.mean(X_tr[:,i], axis=0)\n",
    "    std = np.std(X_tr[:,i], axis=0)\n",
    "    print(\"\\nFeature:\", i+1)\n",
    "    print(\"Mean:\", mean)\n",
    "    print(\"Standard Deviation\", std)\n",
    "\n",
    "print(\"\\nScaled Validation Set\")\n",
    "for i in range(0,5):\n",
    "    mean = np.mean(X_val[:,i], axis=0)\n",
    "    std = np.std(X_val[:,i], axis=0)\n",
    "    print(\"\\nFeature:\", i+1)\n",
    "    print(\"Mean:\", mean)\n",
    "    print(\"Standard Deviation\", std)"
   ]
  },
  {
   "cell_type": "markdown",
   "metadata": {},
   "source": [
    "The Standard Scaler should set our mean to 0 and our standard deviations to 1, which is what is observed. There are slight differences in the mean for our validation set due to differences in validation and training data, where both are scaled according to just the training data. Standardising our data to our validation data would cause greater errors in the means of our training set, because it is a smaller set."
   ]
  },
  {
   "cell_type": "markdown",
   "metadata": {},
   "source": [
    "### ========== Question 1.10 --- [3 marks] ==========\n",
    "By using the transformed input data, train a new `LogisticRegression` classifier. Again, set the `solver` parameter to `lbfgs` and use default settings for the other parameters. Report the classification accuracy on both the training and validation sets.\n",
    "\n",
    "Comment on how your model compares to the baseline classifier from Question 1.6? You may use additional plot(s) to support your explanation."
   ]
  },
  {
   "cell_type": "code",
   "execution_count": 381,
   "metadata": {},
   "outputs": [
    {
     "name": "stdout",
     "output_type": "stream",
     "text": [
      "Training set classification accuracy: 0.810797897754\n",
      "Validation set classification accuracy: 0.643306379155\n"
     ]
    }
   ],
   "source": [
    "lr = LogisticRegression(solver='lbfgs')\n",
    "lr.fit(X_tr, y_tr)\n",
    "\n",
    "print(\"Training set classification accuracy:\", lr.score(X_tr,y_tr))\n",
    "print(\"Validation set classification accuracy:\", lr.score(X_val,y_val))"
   ]
  },
  {
   "cell_type": "markdown",
   "metadata": {},
   "source": [
    "Using the transformed data our Logistic Regression classifier performs much better, about a 30% increase in classification accuracy for our training set. The performance for the validation set is also slightly better, but still falls significantly from the training set accuracy as expected. Normalizing our data likely reinforced any linear relationships present, but could also result in overfitting for our training data. "
   ]
  },
  {
   "cell_type": "markdown",
   "metadata": {},
   "source": [
    "### ========== Question 1.11 --- [1 mark] ==========\n",
    "So far we have used default settings for training the logistic regression classifier. Now, we want to use [K-fold cross-validation](http://scikit-learn.org/stable/modules/generated/sklearn.model_selection.KFold.html) to optimise the regularisation parameter `C`. The regularisation parameter controls the degree to which we wish to penalise large magnitudes in the weight vector. This can help us prevent overfitting but, if set too high, could lead us to underfit too.\n",
    "\n",
    "Create a 3-fold cross-validation object. Set the `shuffle` parameter to `True` and the `random_state` to `0`. By using the cross-validation iterator, display the number of test samples for each fold."
   ]
  },
  {
   "cell_type": "code",
   "execution_count": 382,
   "metadata": {},
   "outputs": [
    {
     "name": "stdout",
     "output_type": "stream",
     "text": [
      "Number of Test Samples: 698\n",
      "Number of Test Samples: 698\n",
      "Number of Test Samples: 697\n"
     ]
    }
   ],
   "source": [
    "kf = KFold(X_tr.shape[0], n_folds=3, shuffle= True, random_state = 0)\n",
    "\n",
    "for train_ind, test_ind in kf:\n",
    "    print(\"Number of Test Samples:\",len(test_ind))"
   ]
  },
  {
   "cell_type": "markdown",
   "metadata": {},
   "source": [
    "### ========== Question 1.12 --- [2 marks] ========== \n",
    "Using the cross-validation iterator from the previous question, perform a search for the best value for `C`. \n",
    "\n",
    "We are going to loop over each CV fold, and each value of `C`. The values of `C` to search should be 20 equally-spaced values **in log space** ranging from `1e-5` to `1e5` *(hint: look at the `logspace()` function in numpy)*. \n",
    "\n",
    "Create a 2-dimensional array and, for each cross-validation fold and parameter setting pair, compute and store the classification accuracy score e.g. store the score of fold 0 with parameter setting 1 at score_array[0,1]. As previously, set the `solver` parameter to `lbfgs` and use default settings for the other parameters (except for `C` obviously!).\n",
    "\n",
    "*(hint: you could use two loops in your code; one iterating over CV folds and another one iterating over the values for `C`)*. "
   ]
  },
  {
   "cell_type": "code",
   "execution_count": 383,
   "metadata": {},
   "outputs": [
    {
     "data": {
      "text/plain": [
       "array([[ 0.5730659 ,  0.62893983,  0.66762178,  0.67191977,  0.68767908,\n",
       "         0.69627507,  0.6747851 ,  0.67048711,  0.65329513,  0.65902579,\n",
       "         0.65902579,  0.65329513,  0.64899713,  0.64613181,  0.64613181,\n",
       "         0.64899713,  0.64613181,  0.64613181,  0.64899713,  0.64899713],\n",
       "       [ 0.54584527,  0.63180516,  0.69484241,  0.71919771,  0.72922636,\n",
       "         0.73495702,  0.70200573,  0.6747851 ,  0.65472779,  0.63610315,\n",
       "         0.63180516,  0.63323782,  0.6260745 ,  0.62750716,  0.62750716,\n",
       "         0.6260745 ,  0.6260745 ,  0.6260745 ,  0.62750716,  0.6260745 ],\n",
       "       [ 0.54806313,  0.63558106,  0.64275466,  0.65566714,  0.68005739,\n",
       "         0.70014347,  0.68149211,  0.67001435,  0.66284075,  0.64418938,\n",
       "         0.63271162,  0.62553802,  0.6241033 ,  0.6241033 ,  0.6241033 ,\n",
       "         0.6241033 ,  0.6241033 ,  0.6241033 ,  0.6241033 ,  0.6241033 ]])"
      ]
     },
     "execution_count": 383,
     "metadata": {},
     "output_type": "execute_result"
    }
   ],
   "source": [
    "c_space = np.logspace(-5,5,num=20)\n",
    "score_array = np.empty((3,20))\n",
    "\n",
    "fold_index=0\n",
    "param_index=0\n",
    "\n",
    "for train_ind, test_ind in kf:\n",
    "    for c in c_space:\n",
    "        clf = LogisticRegression(solver='lbfgs', C=c)\n",
    "        clf.fit(X_tr[train_ind], y_tr[train_ind])\n",
    "        accuracy = clf.score(X_tr[test_ind], y_tr[test_ind])\n",
    "        score_array[fold_index, param_index] = accuracy\n",
    "        param_index+=1\n",
    "    param_index=0\n",
    "    fold_index+=1\n",
    "score_array"
   ]
  },
  {
   "cell_type": "markdown",
   "metadata": {},
   "source": [
    "### ========== Question 1.13 --- [1 mark] ========== \n",
    "Plot the mean classification performance (across CV folds) of the logistic regression classifier against the regularisation parameter `C` by using the range from Question 1.12. Use a logarithmic scale for the x-axis and label both axes appropriately. "
   ]
  },
  {
   "cell_type": "code",
   "execution_count": 384,
   "metadata": {},
   "outputs": [
    {
     "data": {
      "image/png": "[encoded data removed]",
      "text/plain": [
       "<matplotlib.figure.Figure at 0x1a20880610>"
      ]
     },
     "metadata": {},
     "output_type": "display_data"
    }
   ],
   "source": [
    "# Your code goes here\n",
    "mean_scores = np.mean(score_array, axis = 0)\n",
    "\n",
    "plt.plot(c_space, mean_scores, 'g')\n",
    "plt.title('Mean Classification Accuracies across CV folds based on Regularisation Parameter c')\n",
    "plt.xlabel('C Values, logarithmic scale')\n",
    "plt.ylabel('Classification Accuracy')\n",
    "#changes x-axis to logarithmic scale\n",
    "plt.xscale('log')"
   ]
  },
  {
   "cell_type": "markdown",
   "metadata": {},
   "source": [
    "### ========== Question 1.14 --- [2 marks] ==========\n",
    "Display the optimal value for the regularisation parameter `C` determined by the search results from Question 1.12. Similarly to Question 1.13, consider the mean classifiation accuracy across CV folds. By using the optimal value (i.e. the one that yields the highest average classification accuracy) train a new `LogisticRegression` classifier and report the classification accuracy on the validation set. *(Hint: Do not pick the optimal value \"by hand\", instead use an appropriate numpy function).*"
   ]
  },
  {
   "cell_type": "code",
   "execution_count": 385,
   "metadata": {},
   "outputs": [
    {
     "name": "stdout",
     "output_type": "stream",
     "text": [
      "Optimal value for c: 0.00428133239872\n",
      "Classifcation Accuracy with optimal c value: 0.696316262354\n"
     ]
    }
   ],
   "source": [
    "# Your code goes here\n",
    "c_best = c_space[np.argmax(mean_scores)]\n",
    "print(\"Optimal value for c:\", c_best)\n",
    "\n",
    "lr_best = LogisticRegression(solver='lbfgs',C=c_best)\n",
    "lr_best.fit(X_tr, y_tr)\n",
    "print(\"Classifcation Accuracy with optimal c value:\", lr_best.score(X_val, y_val))\n"
   ]
  },
  {
   "cell_type": "markdown",
   "metadata": {},
   "source": [
    "### ========== Question 1.15 --- [1 mark] ========== \n",
    "Scikit-learn offers a [`LogisticRegressionCV`](http://scikit-learn.org/0.17/modules/generated/sklearn.linear_model.LogisticRegressionCV.html) module which implements Logistic Regression with builtin cross-validation to find out the optimal `C` parameter. You can specify the range for the `C` parameter, as well as the cross-validation method you want to use with the `Cs` and `cv` parameters, respectively. Use the `C` range you set up in Question 1.12 and the 3-fold cross-validation iterator from Question 1.11. Once again, train the models by using the `lbfgs` optimisation method and display the optimal value for the parameter `C`. Finally, display the classification accuracy on the validation set. Check your results are consistent with those from Question 1.14!"
   ]
  },
  {
   "cell_type": "code",
   "execution_count": 386,
   "metadata": {},
   "outputs": [
    {
     "name": "stdout",
     "output_type": "stream",
     "text": [
      "Optimal value for parameter C: 0.00428133239872\n",
      "Classification accuracy on validation set: 0.696316262354\n",
      "Consistent Accuracy? True\n"
     ]
    }
   ],
   "source": [
    "# Your code goes here\n",
    "lrCV = LogisticRegressionCV(solver='lbfgs', Cs = c_space, cv=kf)\n",
    "lrCV.fit(X_tr,y_tr)\n",
    "\n",
    "print(\"Optimal value for parameter C:\", lrCV.C_[0])\n",
    "print(\"Classification accuracy on validation set:\", lrCV.score(X_val,y_val))\n",
    "print(\"Consistent Accuracy?\", lrCV.score(X_val,y_val) ==lr_best.score(X_val, y_val))"
   ]
  },
  {
   "cell_type": "markdown",
   "metadata": {},
   "source": [
    "### ========== Question 1.16 --- [1 mark] ==========\n",
    "Now, we want to validate the importance of various features for classification. For this purpose, we will use a [`RandomForestClassifier`](http://scikit-learn.org/stable/modules/generated/sklearn.ensemble.RandomForestClassifier.html) (you might want to refer to the labs if you are unsure how we can estimate feature importances with decision tree and random forest models).\n",
    "\n",
    "Initialise a random forest classifier and fit the model by using training data only and 500 trees (i.e. `n_estimators`). Set the `RandomState` equal to 42 to ensure reproducible results. Report the accuracy score on both the training and validation sets."
   ]
  },
  {
   "cell_type": "code",
   "execution_count": 387,
   "metadata": {},
   "outputs": [
    {
     "name": "stdout",
     "output_type": "stream",
     "text": [
      "Random Forest Classifier, Training data accuracy: 1.0\n",
      "Random Forest Classifier, Validation data accuracy: 0.692722371968\n"
     ]
    }
   ],
   "source": [
    "rfc = RandomForestClassifier(n_estimators=500, random_state=42)\n",
    "rfc.fit(X_tr, y_tr)\n",
    "\n",
    "print(\"Random Forest Classifier, Training data accuracy:\", rfc.score(X_tr, y_tr))\n",
    "print(\"Random Forest Classifier, Validation data accuracy:\", rfc.score(X_val, y_val))\n"
   ]
  },
  {
   "cell_type": "markdown",
   "metadata": {},
   "source": [
    "### ========== Question 1.17 --- [2 marks] ==========\n",
    "Comment on the results above. Do you find the discrepancy between training and validation accuracies surprising?"
   ]
  },
  {
   "cell_type": "markdown",
   "metadata": {},
   "source": [
    "This classifier performs extremely well on our training data, and slightly better on our validation set than previous classifiers. The high performance on training data is expected, as an accuracy of 100% on our training data is normal for unbounded Random Forest classifiers, as is the discrepancy between the two accuracies. "
   ]
  },
  {
   "cell_type": "markdown",
   "metadata": {},
   "source": [
    "### ========== Question 1.18 --- [2 marks] ==========\n",
    "By using the random forest model from the previous question order the features by descending importance and display the names of the 50 most important features."
   ]
  },
  {
   "cell_type": "code",
   "execution_count": 388,
   "metadata": {},
   "outputs": [
    {
     "name": "stdout",
     "output_type": "stream",
     "text": [
      "Features, Descending Importance: Index([u'dim20', u'dim50', u'dim359', u'dim3', u'dim478', u'dim75', u'dim282',\n",
      "       u'dim460', u'dim342', u'dim397', u'dim347', u'dim73', u'dim484',\n",
      "       u'dim355', u'dim329', u'dim216', u'dim262', u'dim221', u'dim133',\n",
      "       u'dim499', u'dim273', u'dim253', u'dim205', u'dim422', u'dim346',\n",
      "       u'dim16', u'dim325', u'dim89', u'dim91', u'dim328', u'dim213',\n",
      "       u'dim321', u'dim288', u'dim53', u'dim439', u'dim426', u'dim72',\n",
      "       u'dim34', u'dim76', u'dim311', u'dim314', u'dim95', u'dim287',\n",
      "       u'dim482', u'dim298', u'dim47', u'dim441', u'dim200', u'dim343',\n",
      "       u'dim293'],\n",
      "      dtype='object')\n"
     ]
    }
   ],
   "source": [
    "importances = rfc.feature_importances_\n",
    "order = np.argsort(importances)[::-1]\n",
    "print(\"Features, Descending Importance:\", train_A.columns[order][:50])"
   ]
  },
  {
   "cell_type": "markdown",
   "metadata": {},
   "source": [
    "### ========== Question 1.19 --- [3 marks] ==========\n",
    "Next, we would like to test the performance of support vector machines. Train three support vector classifiers with the following kernels: linear, radial basis function, and polynomial. Report the classification accuracy of each of the three classifiers on both the training and validation sets."
   ]
  },
  {
   "cell_type": "code",
   "execution_count": 389,
   "metadata": {},
   "outputs": [
    {
     "data": {
      "text/plain": [
       "SVC(C=1.0, cache_size=200, class_weight=None, coef0=0.0,\n",
       "  decision_function_shape='ovr', degree=3, gamma='auto', kernel='poly',\n",
       "  max_iter=-1, probability=False, random_state=None, shrinking=True,\n",
       "  tol=0.001, verbose=False)"
      ]
     },
     "execution_count": 389,
     "metadata": {},
     "output_type": "execute_result"
    }
   ],
   "source": [
    "# Your code goes here\n",
    "svc_linear = SVC(kernel='linear')\n",
    "svc_rbf = SVC(kernel='rbf')\n",
    "svc_poly = SVC(kernel='poly')\n",
    "\n",
    "svc_linear.fit(X_tr, y_tr)\n",
    "svc_rbf.fit(X_tr, y_tr)\n",
    "svc_poly.fit(X_tr, y_tr)"
   ]
  },
  {
   "cell_type": "code",
   "execution_count": 390,
   "metadata": {},
   "outputs": [
    {
     "name": "stdout",
     "output_type": "stream",
     "text": [
      "Linear SVM Training Accuracy: 0.842331581462\n",
      "Linear SVM Validation Accuracy: 0.638814016173\n",
      "\n",
      "RBF SVM Training Accuracy: 0.910654562828\n",
      "RBF SVM Validation Accuracy: 0.729559748428\n",
      "\n",
      "Polynomial SVM Training Accuracy: 0.990922121357\n",
      "Polynomial SVM Validation Accuracy: 0.701707097934\n"
     ]
    }
   ],
   "source": [
    "print(\"Linear SVM Training Accuracy:\",svc_linear.score(X_tr, y_tr))\n",
    "print(\"Linear SVM Validation Accuracy:\",svc_linear.score(X_val, y_val))\n",
    "\n",
    "print(\"\\nRBF SVM Training Accuracy:\",svc_rbf.score(X_tr, y_tr))\n",
    "print(\"RBF SVM Validation Accuracy:\",svc_rbf.score(X_val, y_val))\n",
    "\n",
    "print(\"\\nPolynomial SVM Training Accuracy:\",svc_poly.score(X_tr, y_tr))\n",
    "print(\"Polynomial SVM Validation Accuracy:\",svc_poly.score(X_val, y_val))"
   ]
  },
  {
   "cell_type": "markdown",
   "metadata": {},
   "source": [
    "### ========== Question 1.20 --- [3 marks] ==========\n",
    "At this point, we would like to get an idea of what kind of decision boundaries we can get with the three types of SVM kernels we introduced in the previous question. For visualisation, however, we can only make use of 2D input data. For this purpose, we select to use the 21st and 76th columns of our training features (*hint: remember that Python uses 0-based indexing*). \n",
    "\n",
    "Execute the cell below to define a useful function which we will be using to plot the decision boundaries *(it is also not a bad idea to try to understand what this functions does)*. \n",
    "\n",
    "Then train three distinct SVM classifiers by using the 2D input data mentioned above and default parameters:\n",
    "* a linear SVC\n",
    "* an RBF SVC \n",
    "* a polynomial SVC\n",
    "\n",
    "Finally, create a list containing the three classifiers you have just trained. Use this list as an input to the provided function along with the used training features and observe the outcome. You can use the additional `title` parameter to set the titles in the subplots. Comment on the shape of the boundaries and what this means for classification accuracy in 1-2 sentences.\n",
    "\n",
    "*(Acknowledgement: this Question has been heavily based on [this example](http://scikit-learn.org/0.17/auto_examples/svm/plot_iris.html) from scikit-learn's documentation.)*"
   ]
  },
  {
   "cell_type": "code",
   "execution_count": 391,
   "metadata": {
    "collapsed": true
   },
   "outputs": [],
   "source": [
    "def show_svc_decision_boundaries(clfs, X, title=None):\n",
    "    \"\"\"Plots decision boundaries for classifiers with 2D inputs.\n",
    "    \n",
    "    Parameters\n",
    "    ----------\n",
    "    clf : list\n",
    "        Classifiers for which decision boundaries will be displayed.\n",
    "    X : array\n",
    "        Input features used to train the classifiers.\n",
    "    title : list, optional\n",
    "        Titles for classifiers.\n",
    "    \n",
    "    \"\"\"\n",
    "    \n",
    "    assert X.shape[1] == 2 # Input should be 2D\n",
    "    if title is not None:\n",
    "        assert len(clfs) == len(title)\n",
    "    \n",
    "    h = .04 # step size in the mesh\n",
    "    x_min, x_max = X[:, 0].min() - 1, X[:, 0].max() + 1\n",
    "    y_min, y_max = X[:, 1].min() - 1, X[:, 1].max() + 1\n",
    "    xx, yy = np.meshgrid(np.arange(x_min, x_max, h),\n",
    "                         np.arange(y_min, y_max, h))\n",
    "    plt.figure(figsize=(15,5))\n",
    "    for i, clf in enumerate(clfs):\n",
    "        plt.subplot(1, len(clfs), i + 1)\n",
    "        plt.subplots_adjust(wspace=0.4, hspace=0.4)\n",
    "        Z = clf.predict(np.c_[xx.ravel(), yy.ravel()])\n",
    "        Z = Z.reshape(xx.shape)\n",
    "        plt.contourf(xx, yy, Z, cmap=plt.cm.Paired, alpha=0.8)\n",
    "        # Training points\n",
    "        plt.scatter(X[:, 0], X[:, 1], c=y_tr, cmap=plt.cm.Paired)\n",
    "        plt.xlabel('Feature 1')\n",
    "        plt.ylabel('Feature 2')\n",
    "        plt.xlim(xx.min(), xx.max())\n",
    "        plt.ylim(yy.min(), yy.max())\n",
    "        plt.xticks(())\n",
    "        plt.yticks(())\n",
    "        if title is not None:\n",
    "            plt.title(title[i])"
   ]
  },
  {
   "cell_type": "code",
   "execution_count": 392,
   "metadata": {},
   "outputs": [
    {
     "data": {
      "image/png": "[encoded data removed]",
      "text/plain": [
       "<matplotlib.figure.Figure at 0x1a15e2bed0>"
      ]
     },
     "metadata": {},
     "output_type": "display_data"
    }
   ],
   "source": [
    "X_new = X_tr[:,[20,75]]\n",
    "\n",
    "svc_linear = SVC(kernel='linear')\n",
    "svc_rbf = SVC(kernel='rbf')\n",
    "svc_poly = SVC(kernel='poly')\n",
    "\n",
    "svc_linear.fit(X_new, y_tr)\n",
    "svc_rbf.fit(X_new, y_tr)\n",
    "svc_poly.fit(X_new, y_tr)\n",
    "\n",
    "show_svc_decision_boundaries([svc_linear, svc_rbf, svc_poly], X_new, title=['Linear', 'Radial Basis Function','Polynomial'])"
   ]
  },
  {
   "cell_type": "markdown",
   "metadata": {},
   "source": [
    "The shape of the linear classifier is expected, but interestingly enough the Radial Basis Function and the Polynomial SVM's have almost inverted decision boundary shapes. This difference in classification accuracies must come primarily from the center mass of data points."
   ]
  },
  {
   "cell_type": "markdown",
   "metadata": {},
   "source": [
    "### ========== Question 1.21 --- [5 marks] ==========\n",
    "So far we have used default parameters for training the SVM classifiers. Now we want to tune the parameters by using cross-validation. \n",
    "\n",
    "By using the `K-fold` iterator from Question 1.11 and training data only, estimate the classification accuracy of an SVM classifier with RBF kernel, while you vary the penalty parameter `C` in a logarithmic range `np.logspace(-2, 3, 10)`. Set the kernel coefficient parameter `gamma` to `auto` for this question. \n",
    "\n",
    "Plot the mean cross-validated classification accuracy against the regularisation parameter `C` by using a log-scale for the x-axis. Display the highest obtained mean accuracy score and the value of `C` which yielded it. Label axes appropriately. \n",
    "\n",
    "Finally, train a classifier by using the optimal value for this parameter (without using cross-validation at this stage) and report the classification accuracy on the training and validation sets. "
   ]
  },
  {
   "cell_type": "code",
   "execution_count": 393,
   "metadata": {
    "collapsed": true
   },
   "outputs": [],
   "source": [
    "c_space = np.logspace(-2,3,10)\n",
    "score_array = np.empty((3,10))\n",
    "\n",
    "fold_index=0\n",
    "param_index=0\n",
    "\n",
    "for train_ind, test_ind in kf:\n",
    "    for c in c_space:\n",
    "        clf = SVC(kernel='rbf', C=c, gamma='auto')\n",
    "        clf.fit(X_tr[train_ind], y_tr[train_ind])\n",
    "        accuracy = clf.score(X_tr[test_ind], y_tr[test_ind])\n",
    "        score_array[fold_index, param_index] = accuracy\n",
    "        param_index+=1\n",
    "    param_index=0\n",
    "    fold_index+=1"
   ]
  },
  {
   "cell_type": "code",
   "execution_count": 394,
   "metadata": {},
   "outputs": [
    {
     "data": {
      "image/png": "[encoded data removed]",
      "text/plain": [
       "<matplotlib.figure.Figure at 0x1a272f42d0>"
      ]
     },
     "metadata": {},
     "output_type": "display_data"
    }
   ],
   "source": [
    "#Graphing\n",
    "mean_scores = np.mean(score_array, axis = 0)\n",
    "\n",
    "plt.plot(c_space, mean_scores, 'g')\n",
    "plt.title('Mean Classification Accuracies across CV folds based on Regularisation Parameter c')\n",
    "plt.xlabel('C Values, logarithmic scale')\n",
    "plt.ylabel('Classification Accuracy')\n",
    "#changes x-axis to logarithmic scale\n",
    "plt.xscale('log')"
   ]
  },
  {
   "cell_type": "code",
   "execution_count": 395,
   "metadata": {},
   "outputs": [
    {
     "name": "stdout",
     "output_type": "stream",
     "text": [
      "Optimal value for c: 1.6681005372\n",
      "Mean Accuracy with optimal c: 0.715230644637\n",
      "Classifcation Accuracy with optimal c value, Training: 0.974677496417\n",
      "Classifcation Accuracy with optimal c value, Validation: 0.727762803235\n"
     ]
    }
   ],
   "source": [
    "#Optimal Value of C\n",
    "c_best = c_space[np.argmax(mean_scores)]\n",
    "print(\"Optimal value for c:\", c_best)\n",
    "print(\"Mean Accuracy with optimal c:\", np.max(mean_scores))\n",
    "\n",
    "clf = SVC(C=c_best)\n",
    "clf.fit(X_tr, y_tr)\n",
    "print(\"Classifcation Accuracy with optimal c value, Training:\", clf.score(X_tr, y_tr))\n",
    "print(\"Classifcation Accuracy with optimal c value, Validation:\", clf.score(X_val, y_val))"
   ]
  },
  {
   "cell_type": "markdown",
   "metadata": {},
   "source": [
    "### ========== Question 1.22 --- [5 marks] ==========\n",
    "Now we turn to the kernel coefficient `gamma` parameter. By using the same procedure as in the previous question, estimate the classification accuracy of an SVM classifier with RBF kernel while you vary the `gamma` parameter in a logarithmic range `logspace(-5, 0, 10)`. Fix the penalty parameter `C=1.0`.\n",
    "\n",
    "Plot the mean cross-validated classification accuracy against the parameter `gamma` by using a log-scale for the x-axis. Display the highest obtained mean accuracy score and the value of `gamma` which yielded it.  Label axes appropriately.\n",
    "\n",
    "Finally, train a classifier by using the optimal value for this parameter (without using cross-validation at this stage) and report the classification accuracy on the training and validation sets. "
   ]
  },
  {
   "cell_type": "code",
   "execution_count": 396,
   "metadata": {
    "collapsed": true
   },
   "outputs": [],
   "source": [
    "gamma_space = np.logspace(-5,0,10)\n",
    "score_array = np.empty((3,10))\n",
    "\n",
    "fold_index=0\n",
    "param_index=0\n",
    "\n",
    "for train_ind, test_ind in kf:\n",
    "    for g in gamma_space:\n",
    "        clf = SVC(kernel='rbf', C=1.0, gamma=g)\n",
    "        clf.fit(X_tr[train_ind], y_tr[train_ind])\n",
    "        accuracy = clf.score(X_tr[test_ind], y_tr[test_ind])\n",
    "        score_array[fold_index, param_index] = accuracy\n",
    "        param_index+=1\n",
    "    param_index=0\n",
    "    fold_index+=1"
   ]
  },
  {
   "cell_type": "code",
   "execution_count": 397,
   "metadata": {},
   "outputs": [
    {
     "data": {
      "image/png": "[encoded data removed]",
      "text/plain": [
       "<matplotlib.figure.Figure at 0x1a27113950>"
      ]
     },
     "metadata": {},
     "output_type": "display_data"
    }
   ],
   "source": [
    "#Graphing\n",
    "mean_scores = np.mean(score_array, axis = 0)\n",
    "\n",
    "plt.plot(gamma_space, mean_scores, 'g')\n",
    "plt.title('Mean Classification Accuracies across CV folds based on Parameter gamma')\n",
    "plt.xlabel('Gamma Values, logarithmic scale')\n",
    "plt.ylabel('Classification Accuracy')\n",
    "#changes x-axis to logarithmic scale\n",
    "plt.xscale('log')"
   ]
  },
  {
   "cell_type": "code",
   "execution_count": 398,
   "metadata": {},
   "outputs": [
    {
     "name": "stdout",
     "output_type": "stream",
     "text": [
      "Optimal value for gamma: 1.6681005372\n",
      "Mean Accuracy with optimal gamma: 0.716185754475\n",
      "Classifcation Accuracy with optimal gamma value, Training: 0.891065456283\n",
      "Classifcation Accuracy with optimal gamma value, Validation: 0.726864330638\n"
     ]
    }
   ],
   "source": [
    "#Optimal Value of gamma\n",
    "g_best = gamma_space[np.argmax(mean_scores)]\n",
    "print(\"Optimal value for gamma:\", c_best)\n",
    "print(\"Mean Accuracy with optimal gamma:\", np.max(mean_scores))\n",
    "\n",
    "clf = SVC(gamma=g_best)\n",
    "clf.fit(X_tr, y_tr)\n",
    "print(\"Classifcation Accuracy with optimal gamma value, Training:\", clf.score(X_tr, y_tr))\n",
    "print(\"Classifcation Accuracy with optimal gamma value, Validation:\", clf.score(X_val, y_val))"
   ]
  },
  {
   "cell_type": "markdown",
   "metadata": {},
   "source": [
    "### ========== Question 1.23 --- [7 marks] ==========\n",
    "Now we wish to tune both the `C` and `gamma` parameters simultaneously. To save computational time, we will now constrain the parameter search space. Define a `4 X 4` grid for the two parameters, as follows:\n",
    "* `C`: `np.logspace(-2, 1, 4)`\n",
    "* `gamma`: `np.logspace(-4, -1, 4)`\n",
    "\n",
    "Estimate the mean cross-validated classification accuracy by using training data only and all possible configurations for the two parameters. \n",
    "\n",
    "Use a [heatmap](https://seaborn.github.io/generated/seaborn.heatmap.html?highlight=heatmap#seaborn.heatmap) to visualise the mean cross-validated classification accuracy for all `C`-`gamma` pairs. Label axes appropriately and display the values for `C` and `gamma` for the best performing configuration. \n",
    "\n",
    "Finally, by using the optimal configuration, train a classifier (without using cross-validation) and report the classification accuracy on the training and validation sets."
   ]
  },
  {
   "cell_type": "code",
   "execution_count": 399,
   "metadata": {},
   "outputs": [
    {
     "name": "stdout",
     "output_type": "stream",
     "text": [
      "[[ 0.55088187  0.55088187  0.68130986  0.70997754]\n",
      " [ 0.55088187  0.68322693  0.71236257  0.69086986]\n",
      " [ 0.55088187  0.55088187  0.64595572  0.66363005]\n",
      " [ 0.55088187  0.55088187  0.55088187  0.55088187]]\n"
     ]
    }
   ],
   "source": [
    "c_space = np.logspace(-2, 1, 4)\n",
    "gamma_space = np.logspace(-4, -1, 4)\n",
    "\n",
    "score_grid = np.empty((3,4,4))\n",
    "\n",
    "fold_index=0\n",
    "c_index=0\n",
    "gamma_index=0\n",
    "\n",
    "#Creates a matrix 3x4x4\n",
    "for train_ind, test_ind in kf:\n",
    "    for g in gamma_space:\n",
    "        for c in c_space:\n",
    "            clf = SVC(kernel='rbf', C=c, gamma=g)\n",
    "            clf.fit(X_tr[train_ind], y_tr[train_ind])\n",
    "            accuracy = clf.score(X_tr[test_ind], y_tr[test_ind])\n",
    "            score_grid[fold_index, gamma_index, c_index] = accuracy\n",
    "            c_index+=1\n",
    "        gamma_index+=1\n",
    "        c_index=0\n",
    "    c_index=0\n",
    "    gamma_index=0\n",
    "    fold_index+=1\n",
    "\n",
    "#averages accuracies across each fold\n",
    "score_means = np.mean(score_grid, axis=0)\n",
    "        \n",
    "print(score_means)\n"
   ]
  },
  {
   "cell_type": "code",
   "execution_count": 400,
   "metadata": {},
   "outputs": [
    {
     "name": "stdout",
     "output_type": "stream",
     "text": [
      "Optimal C value: 1.0\n",
      "Optimal Gamma value: 0.001\n"
     ]
    },
    {
     "data": {
      "image/png": "[encoded data removed]",
      "text/plain": [
       "<matplotlib.figure.Figure at 0x1a22b5d450>"
      ]
     },
     "metadata": {},
     "output_type": "display_data"
    }
   ],
   "source": [
    "ax = sns.heatmap(score_means, xticklabels=c_space, yticklabels=gamma_space, annot=True)\n",
    "ax.set_xlabel('C')\n",
    "ax.set_ylabel('Gamma')\n",
    "print(\"Optimal C value:\", 1.0)\n",
    "print(\"Optimal Gamma value:\", 0.001)"
   ]
  },
  {
   "cell_type": "code",
   "execution_count": 401,
   "metadata": {},
   "outputs": [
    {
     "name": "stdout",
     "output_type": "stream",
     "text": [
      "Optimal Classifcation Accuracy, Training: 0.834687052078\n",
      "Optimal Classifcation Accuracy, Validation: 0.721473495058\n"
     ]
    }
   ],
   "source": [
    "svc_optimal = SVC(kernel='rbf', C=1.0, gamma=0.001)\n",
    "svc_optimal.fit(X=X_tr, y=y_tr)\n",
    "\n",
    "print(\"Optimal Classifcation Accuracy, Training:\", svc_optimal.score(X_tr, y_tr))\n",
    "print(\"Optimal Classifcation Accuracy, Validation:\", svc_optimal.score(X_val, y_val))"
   ]
  },
  {
   "cell_type": "markdown",
   "metadata": {},
   "source": [
    "### ========== Question 1.24 --- [3 marks] ==========\n",
    "Is the classification accuracy on the validation set higher than in previous questions (1.22-1.23)? If not, can you explain why? Can you think of a way of further improving the performance of the classifier? You don't need to implement your suggestion at this stage. Would there be any associated problems with your suggested approach? "
   ]
  },
  {
   "cell_type": "markdown",
   "metadata": {},
   "source": [
    "The classifcation accuracy is relatively equal to that of previous questions. This could be because our previous optimal parameter already gave us an optimal solution. We see that the optimal c value is 1.0, the default c, so this means it has effectively only optimising based on gamma. We could possibly increase the number of c and gamma values we test for, but this of course has an increasing cost in computation. "
   ]
  },
  {
   "cell_type": "markdown",
   "metadata": {},
   "source": [
    "### ========== Question 1.25 --- [5 marks] ==========\n",
    "Now we want to evaluate the performance of an SVM classifier with polynomial kernel. Once again, we will tune the `degree` parameter by using cross-validation (similarly to what we did in Questions 1.21 and 1.22).\n",
    "\n",
    "By using the `K-fold` iterator from Question 1.11 and training data only, estimate the classification accuracy of polynomial SVM classifier, while you vary the `degree` parameter in the range `np.arange(1,8)`. \n",
    "\n",
    "Plot the mean cross-validated classification accuracy against the polynomial degree. Display the highest obtained mean accuracy score and the value of the `degree` parameter which yielded it. Label axes appropriately. \n",
    "\n",
    "Finally, train a classifier by using the optimal value for this parameter (without using cross-validation at this stage) and report the classification accuracy on the training and validation sets. "
   ]
  },
  {
   "cell_type": "code",
   "execution_count": 402,
   "metadata": {},
   "outputs": [
    {
     "data": {
      "text/plain": [
       "<matplotlib.text.Text at 0x1a209218d0>"
      ]
     },
     "execution_count": 402,
     "metadata": {},
     "output_type": "execute_result"
    },
    {
     "data": {
      "image/png": "[encoded data removed]",
      "text/plain": [
       "<matplotlib.figure.Figure at 0x1a27299ad0>"
      ]
     },
     "metadata": {},
     "output_type": "display_data"
    }
   ],
   "source": [
    "# Your code goes \n",
    "degrees = np.arange(1,8)\n",
    "\n",
    "scores = np.empty((3,7))\n",
    "for i in range(7):\n",
    "    clf = SVC(kernel='poly', degree=degrees[i])\n",
    "    scores[:,i] = cross_val_score(estimator=clf, X=X_tr, y=y_tr, cv=kf, n_jobs=1)\n",
    "    \n",
    "mean_scores = np.mean(scores, axis=0)\n",
    "plt.plot(degrees,mean_scores)\n",
    "plt.xlabel('Degree')\n",
    "plt.ylabel('Accuracy')"
   ]
  },
  {
   "cell_type": "code",
   "execution_count": 403,
   "metadata": {},
   "outputs": [
    {
     "name": "stdout",
     "output_type": "stream",
     "text": [
      "Optimal Degree value: 1\n",
      "Optimal Classifcation Accuracy, Training: 0.783564261825\n",
      "Optimal Classifcation Accuracy, Validation: 0.689128481581\n"
     ]
    }
   ],
   "source": [
    "optimal_degree = degrees[np.argmax(mean_scores)]\n",
    "print(\"Optimal Degree value:\", optimal_degree)\n",
    "\n",
    "svc_optimal = SVC(kernel='poly', degree=optimal_degree)\n",
    "svc_optimal.fit(X=X_tr, y=y_tr)\n",
    "\n",
    "print(\"Optimal Classifcation Accuracy, Training:\", svc_optimal.score(X_tr, y_tr))\n",
    "print(\"Optimal Classifcation Accuracy, Validation:\", svc_optimal.score(X_val, y_val))"
   ]
  },
  {
   "cell_type": "markdown",
   "metadata": {},
   "source": [
    "### ========== Question 1.26 --- [4 marks] ==========\n",
    "\n",
    "You might have noticted that so far, we have used cross-validation for optimising the various tuning parameters (e.g. regularisation parameter in logistic regression, SVM kernel parameters) rather than hold-out validation, although we did have access to a validation set. Why do you think this is a good/bad idea? Give one advantage and one disadvantage of the two different approaches. Which one would you trust more in practice?"
   ]
  },
  {
   "cell_type": "markdown",
   "metadata": {},
   "source": [
    "Our cross-validation method allows us to tune and find the optimal value for certain parameters, while retaining our validation set to test the optimised classifiers. There are concerns with cross-validation being computationally expensive, and hold-out validation would be faster on average. However, in practice, given enough computing power and time cross-validation would be preferable because hold-out validation is less accurate on average. "
   ]
  },
  {
   "cell_type": "markdown",
   "metadata": {},
   "source": [
    "### ========== Question 1.27 --- [6 marks] ==========\n",
    "\n",
    "Reload the full training and validation data that contain all indicator variables for all object categories. Remove the `imgId` attribute but keep all of the class indicator variables in the dataset this time. Your training features should include all attributes except `is_person` which should be your target variable. \n",
    "\n",
    "Once again, use a [StandardScaler](http://scikit-learn.org/0.17/modules/generated/sklearn.preprocessing.StandardScaler.html) to standardise your training and validation features. Then train a Random Forest Classifier by using the entropy `criterion`, 500 `n_estimators`, and also set the `random_state` to 31. Report the classification accuracy on the training and validation sets.\n",
    "\n",
    "Similarly to what we did in Question 1.18, order the features by decreasing importance and display the 50 most important features. \n",
    "\n",
    "Finally, answer the following questions:\n",
    "* What do you notice by looking at the list of the best 50 features?\n",
    "* How does the performance differ with respect to the case when the additional class indicator variables are not present (Question 1.16)? Relate your observations to the observed feature ranking.\n",
    "* Would it be easy to make use of the results in practice? Briey explain your reasoning.\n",
    "\n",
    "*(Hint: you might want to look at some of the [images](http://www.inf.ed.ac.uk/teaching/courses/iaml/2014/assts/asst3/images.html) to justify your explanations.)*"
   ]
  },
  {
   "cell_type": "code",
   "execution_count": 404,
   "metadata": {},
   "outputs": [
    {
     "data": {
      "text/plain": [
       "RandomForestClassifier(bootstrap=True, class_weight=None, criterion='entropy',\n",
       "            max_depth=None, max_features='auto', max_leaf_nodes=None,\n",
       "            min_impurity_decrease=0.0, min_impurity_split=None,\n",
       "            min_samples_leaf=1, min_samples_split=2,\n",
       "            min_weight_fraction_leaf=0.0, n_estimators=500, n_jobs=1,\n",
       "            oob_score=False, random_state=31, verbose=0, warm_start=False)"
      ]
     },
     "execution_count": 404,
     "metadata": {},
     "output_type": "execute_result"
    }
   ],
   "source": [
    "data_path = os.path.join(os.getcwd(), 'datasets', 'train_images_partA.csv')\n",
    "train_A = pd.read_csv(data_path, delimiter = ',')\n",
    "\n",
    "data_path = os.path.join(os.getcwd(), 'datasets', 'valid_images_partA.csv')\n",
    "valid_A = pd.read_csv(data_path, delimiter = ',')\n",
    "\n",
    "X_tr = train_A.drop(['imgId','is_person'], axis=1)\n",
    "X_val = valid_A.drop(['imgId','is_person'], axis=1)\n",
    "\n",
    "y_tr = train_A['is_person']\n",
    "y_val = valid_A['is_person']\n",
    "\n",
    "scaler = StandardScaler().fit(X_tr)\n",
    "\n",
    "X_tr = scaler.transform(X_tr)\n",
    "X_val = scaler.transform(X_val)\n",
    "\n",
    "#Random Forest Classifier\n",
    "rf = RandomForestClassifier(criterion = 'entropy',n_estimators=500, random_state=31)\n",
    "rf.fit(X_tr, y_tr)"
   ]
  },
  {
   "cell_type": "code",
   "execution_count": 405,
   "metadata": {},
   "outputs": [
    {
     "name": "stdout",
     "output_type": "stream",
     "text": [
      "RFC Accuracy on Training: 1.0\n",
      "RFC Accuracy on Validation: 0.711590296496\n"
     ]
    }
   ],
   "source": [
    "print(\"RFC Accuracy on Training:\", rf.score(X_tr, y_tr))\n",
    "print(\"RFC Accuracy on Validation:\", rf.score(X_val, y_val))"
   ]
  },
  {
   "cell_type": "code",
   "execution_count": 406,
   "metadata": {},
   "outputs": [
    {
     "name": "stdout",
     "output_type": "stream",
     "text": [
      "Features, Descending Importance: Index([u'is_cat', u'is_bird', u'dim21', u'dim51', u'dim360', u'dim4', u'dim76',\n",
      "       u'dim398', u'dim283', u'dim479', u'dim263', u'dim343', u'dim423',\n",
      "       u'dim485', u'dim254', u'dim461', u'dim222', u'dim356', u'dim74',\n",
      "       u'dim288', u'dim214', u'dim348', u'dim330', u'dim217', u'dim483',\n",
      "       u'dim90', u'dim274', u'dim347', u'dim17', u'dim427', u'dim35',\n",
      "       u'dim326', u'dim73', u'dim312', u'dim48', u'dim25', u'dim315',\n",
      "       u'dim322', u'dim329', u'dim500', u'dim134', u'dim206', u'is_aeroplane',\n",
      "       u'dim96', u'dim353', u'dim442', u'dim77', u'dim440', u'dim171',\n",
      "       u'dim154'],\n",
      "      dtype='object')\n"
     ]
    }
   ],
   "source": [
    "importances = rf.feature_importances_\n",
    "order = np.argsort(importances)[::-1]\n",
    "\n",
    "print(\"Features, Descending Importance:\", train_A.drop(['imgId','is_person'], axis=1).columns[order][:50])"
   ]
  },
  {
   "cell_type": "markdown",
   "metadata": {},
   "source": [
    "What do you notice by looking at the list of the best 50 features?\n",
    "\n",
    "Many of the classification features such as \"is_cat\" have come up in our most important features. These features are logically viable, because a photograph in our dataset containing a cat rarely contains a person as well. \n",
    "\n",
    "How does the performance differ with respect to the case when the additional class indicator variables are not present (Question 1.16)? Relate your observations to the observed feature ranking.\n",
    "\n",
    "The results are not significantly different from our previously observed accuracy, which is expected because we are only a few extra features are added to our most important features. Our important feature list is otherwise quite similar to our previous list, sans the categorical features.\n",
    "\n",
    "Would it be easy to make use of the results in practice? Briey explain your reasoning.\n",
    "This data essentially tells us this information is unlikely to help considerably."
   ]
  },
  {
   "cell_type": "markdown",
   "metadata": {},
   "source": [
    "## Mini challenge [30%]"
   ]
  },
  {
   "cell_type": "markdown",
   "metadata": {},
   "source": [
    "*Important: You are allowed to write up to a maximum of 600 words in this part of the assignment. The thoroughness of the exploration and the quality of the resulting discussion is just as important as the final classification performance of your chosen method(s) and credit will be divided accordingly.*"
   ]
  },
  {
   "cell_type": "markdown",
   "metadata": {},
   "source": [
    "In this final part of the assignment we will have a mini object-recognition challenge. Using the data provided you are asked to find the best classiffier for the person/no person classification task. You can apply any preprocessing steps to the data that you think fit and employ any classifier you like (with the provison that you can explain what the classifier is/preprocessing steps are doing). You can also employ any lessons learnt during the course, either from previous Assignments, the Labs or the lecture material to try and squeeze out as much performance as you possibly can. The only restriction is that all steps must be performed in `Python` by using the `numpy`, `pandas` and `sklearn` packages. You can also make use of `matplotlib` and `seaborn` for visualisation. "
   ]
  },
  {
   "cell_type": "markdown",
   "metadata": {},
   "source": [
    "**Important:** The classification performance metric that we will use for this part is the *cross-entropy* or *logarithmic loss* (see the labs). You should familiarise yourself with the metric by reading the `sklearn` [user guide](http://scikit-learn.org/stable/modules/model_evaluation.html#log-loss) and [documentation](http://scikit-learn.org/stable/modules/generated/sklearn.metrics.log_loss.html#sklearn.metrics.log_loss). To estimate this metric you will need to evaluate probability outputs, as opposed to discrete predictions which we have used so far to compute classification accuracies. Most models in `sklearn` implement a `predict_proba()` method which returns the probabilities for each class. For instance, if your test set consists of `N` datapoints and there are `K` classes, the method will return a `N` x `K` matrix."
   ]
  },
  {
   "cell_type": "markdown",
   "metadata": {},
   "source": [
    "We provide you with three new data sets: a training set (`train_images_partB.csv`), a validation set (`valid_images_partB.csv`), and a test set (`test_images_partB.csv`). You must use the former two for training and evaluating your models (as you see fit). Once you have chosen your favourite model (and pre-processing steps) you should apply it to the test set (for which no labels are provided). Estimate the posterior proabilities for the data points in the test set and submit your results as part of your answer. Your results will be evaluated in terms of the logarithmic loss metric. You also need to submit a brief description of the approaches you considered, your suggested final approach, and a short explanation of why you chose it. The thoroughness of the exploration and the quality of the resulting discussion is just as important as the final score of your chosen method(s) and credit will be divided accordingly.\n",
    "\n",
    "*Hint: Feature engineering, feature combination, model combination and model parameter optimization can significantly improve performance.*"
   ]
  },
  {
   "cell_type": "markdown",
   "metadata": {},
   "source": [
    "**How to submit your results**: Store the estimated probabilities for the data points in the test set in a 2D numpy array. Then execute the provided cell at the end of this notebook which uses a provided `save_predictions` function to export your results into a `.txt` file (the function will return an error if the provided array has not the right shape). The `.txt` file will be saved where your notebook lives. Submit this file along with your notebook as detailed at the top of this file."
   ]
  },
  {
   "cell_type": "markdown",
   "metadata": {},
   "source": [
    "*Your answer goes here (max. 600 words)*\n",
    "\n"
   ]
  },
  {
   "cell_type": "code",
   "execution_count": 407,
   "metadata": {
    "collapsed": true
   },
   "outputs": [],
   "source": [
    "data_path = os.path.join(os.getcwd(), 'datasets', 'train_images_partB.csv')\n",
    "train_B = pd.read_csv(data_path, delimiter = ',')\n",
    "\n",
    "data_path = os.path.join(os.getcwd(), 'datasets', 'valid_images_partB.csv')\n",
    "valid_B = pd.read_csv(data_path, delimiter = ',')\n",
    "\n",
    "data_path = os.path.join(os.getcwd(), 'datasets', 'test_images_partB.csv')\n",
    "test_B = pd.read_csv(data_path, delimiter = ',')\n",
    "\n",
    "# Get attributes\n",
    "aoi_names = train_B.columns[1:501].tolist()\n",
    "\n",
    "# Split Dataset\n",
    "X_tr = train_B[aoi_names]\n",
    "y_tr = train_B['is_person']\n",
    "\n",
    "X_val = valid_B[aoi_names]\n",
    "y_val = valid_B['is_person']\n",
    "\n",
    "X_test = test_B[aoi_names]"
   ]
  },
  {
   "cell_type": "markdown",
   "metadata": {},
   "source": [
    "In this stage of loading our data, we note that we once again only take in non categorical features. This is due to the limited benefit of including them previously."
   ]
  },
  {
   "cell_type": "code",
   "execution_count": 408,
   "metadata": {},
   "outputs": [
    {
     "data": {
      "image/png": "[encoded data removed]",
      "text/plain": [
       "<matplotlib.figure.Figure at 0x1a1734b6d0>"
      ]
     },
     "metadata": {},
     "output_type": "display_data"
    }
   ],
   "source": [
    "f, (ax1, ax2) = plt.subplots(1,2, sharey=True)\n",
    "training_graph=sns.countplot(x=y_tr, ax=ax1)\n",
    "training_graph.set(xticklabels=['No Person','Person'],title='Training')\n",
    "\n",
    "validation_graph=sns.countplot(x=y_val, ax=ax2)\n",
    "validation_graph.set(xticklabels=['No Person','Person'],title='Validation')\n",
    "plt.suptitle('Number of Pictures with a Person')\n",
    "plt.show()"
   ]
  },
  {
   "cell_type": "markdown",
   "metadata": {},
   "source": [
    "Similar to our dataset A, there is a slightly higher amount of images with no person. Our baseline indicator is thus assuming no person, giving us an accuracy of little over 50%. "
   ]
  },
  {
   "cell_type": "code",
   "execution_count": 409,
   "metadata": {},
   "outputs": [
    {
     "name": "stdout",
     "output_type": "stream",
     "text": [
      "Baseline Classification Accuracy: 0.526504941599\n"
     ]
    }
   ],
   "source": [
    "no_person = y_val[y_val==0]\n",
    "accuracy = no_person.shape[0]/y_val.shape[0]\n",
    "print(\"Baseline Classification Accuracy:\", accuracy)"
   ]
  },
  {
   "cell_type": "markdown",
   "metadata": {},
   "source": [
    "We will attempt to overcome this classification rate by first removing outliers. We run a principle component analysis:"
   ]
  },
  {
   "cell_type": "code",
   "execution_count": 410,
   "metadata": {},
   "outputs": [
    {
     "data": {
      "text/plain": [
       "<matplotlib.text.Text at 0x1a20ae0750>"
      ]
     },
     "execution_count": 410,
     "metadata": {},
     "output_type": "execute_result"
    },
    {
     "data": {
      "image/png": "[encoded data removed]",
      "text/plain": [
       "<matplotlib.figure.Figure at 0x1a29a57a90>"
      ]
     },
     "metadata": {},
     "output_type": "display_data"
    }
   ],
   "source": [
    "pca = PCA(n_components=2)\n",
    "comp = pca.fit_transform(X_tr)\n",
    "\n",
    "plt.scatter(comp[:,0], comp[:,1])\n",
    "plt.xlabel('Component 1')\n",
    "plt.ylabel('Component 2')"
   ]
  },
  {
   "cell_type": "markdown",
   "metadata": {},
   "source": [
    "In this way se see a significant number of outliers around the range of 100-120 for component 1. This are significantly different from our other data, and could signify pictures that include multiple subjects. In fact, most data is clustered around (0.0). We remove the outliers before continuing."
   ]
  },
  {
   "cell_type": "code",
   "execution_count": 411,
   "metadata": {},
   "outputs": [
    {
     "data": {
      "text/plain": [
       "<matplotlib.text.Text at 0x1a268f6a50>"
      ]
     },
     "execution_count": 411,
     "metadata": {},
     "output_type": "execute_result"
    },
    {
     "data": {
      "image/png": "[encoded data removed]",
      "text/plain": [
       "<matplotlib.figure.Figure at 0x1a268ed250>"
      ]
     },
     "metadata": {},
     "output_type": "display_data"
    }
   ],
   "source": [
    "X_tr = X_tr[(comp[:,0]<1)]\n",
    "y_tr = y_tr[(comp[:,0]<1)]\n",
    "\n",
    "comp = pca.fit_transform(X_tr)\n",
    "\n",
    "plt.scatter(comp[:,0], comp[:,1], c=y_tr)\n",
    "plt.xlabel('Component 1')\n",
    "plt.ylabel('Component 2')"
   ]
  },
  {
   "cell_type": "markdown",
   "metadata": {},
   "source": [
    "We also include different colors for whether or not the given image contains a person. Unfortunately this is all rather clustered, with no clear grouping."
   ]
  },
  {
   "cell_type": "markdown",
   "metadata": {},
   "source": [
    "K Nearest Neighbors classification was run, with no prior feature engineering. Different numbers of neighbors were attempted, with the most successful being 10."
   ]
  },
  {
   "cell_type": "code",
   "execution_count": 412,
   "metadata": {},
   "outputs": [
    {
     "name": "stdout",
     "output_type": "stream",
     "text": [
      "Knn Score on Validation data: 0.676549865229\n"
     ]
    }
   ],
   "source": [
    "knn = KNeighborsClassifier(n_neighbors=10)\n",
    "knn.fit(X_tr, y_tr)\n",
    "print(\"Knn Score on Validation data:\", knn.score(X_val,y_val))"
   ]
  },
  {
   "cell_type": "markdown",
   "metadata": {},
   "source": [
    "Here we run the same feature scaling done previously on our features. "
   ]
  },
  {
   "cell_type": "code",
   "execution_count": 413,
   "metadata": {},
   "outputs": [
    {
     "name": "stdout",
     "output_type": "stream",
     "text": [
      "Scaled Training Set\n",
      "\n",
      "Feature: 1\n",
      "Mean: -3.39485301367e-17\n",
      "Standard Deviation 1.0\n",
      "\n",
      "Feature: 2\n",
      "Mean: -2.20665445888e-17\n",
      "Standard Deviation 1.0\n",
      "\n",
      "Feature: 3\n",
      "Mean: 2.44429416984e-16\n",
      "Standard Deviation 1.0\n",
      "\n",
      "Feature: 4\n",
      "Mean: 1.42583826574e-16\n",
      "Standard Deviation 1.0\n",
      "\n",
      "Feature: 5\n",
      "Mean: -5.77125012323e-17\n",
      "Standard Deviation 1.0\n",
      "\n",
      "Scaled Validation Set\n",
      "\n",
      "Feature: 1\n",
      "Mean: -0.00550612324325\n",
      "Standard Deviation 1.0131088626\n",
      "\n",
      "Feature: 2\n",
      "Mean: -0.0382933020105\n",
      "Standard Deviation 0.969819492563\n",
      "\n",
      "Feature: 3\n",
      "Mean: 0.109150976593\n",
      "Standard Deviation 1.04922849828\n",
      "\n",
      "Feature: 4\n",
      "Mean: 0.0936931390572\n",
      "Standard Deviation 1.05684478815\n",
      "\n",
      "Feature: 5\n",
      "Mean: 0.0305784372474\n",
      "Standard Deviation 0.974713362919\n"
     ]
    }
   ],
   "source": [
    "scaler = StandardScaler().fit(X_tr)\n",
    "\n",
    "X_tr = scaler.transform(X_tr)\n",
    "X_val = scaler.transform(X_val)\n",
    "\n",
    "print(\"Scaled Training Set\")\n",
    "for i in range(0,5):\n",
    "    mean = np.mean(X_tr[:,i], axis=0)\n",
    "    std = np.std(X_tr[:,i], axis=0)\n",
    "    print(\"\\nFeature:\", i+1)\n",
    "    print(\"Mean:\", mean)\n",
    "    print(\"Standard Deviation\", std)\n",
    "\n",
    "print(\"\\nScaled Validation Set\")\n",
    "for i in range(0,5):\n",
    "    mean = np.mean(X_val[:,i], axis=0)\n",
    "    std = np.std(X_val[:,i], axis=0)\n",
    "    print(\"\\nFeature:\", i+1)\n",
    "    print(\"Mean:\", mean)\n",
    "    print(\"Standard Deviation\", std)"
   ]
  },
  {
   "cell_type": "code",
   "execution_count": 414,
   "metadata": {},
   "outputs": [
    {
     "name": "stdout",
     "output_type": "stream",
     "text": [
      "Knn Score on Training data: 0.759675107501\n",
      "Knn Score on Validation data: 0.672955974843\n"
     ]
    }
   ],
   "source": [
    "knn = KNeighborsClassifier(n_neighbors=8)\n",
    "knn.fit(X_tr, y_tr)\n",
    "print(\"Knn Score on Training data:\", knn.score(X_tr,y_tr))\n",
    "print(\"Knn Score on Validation data:\", knn.score(X_val,y_val))"
   ]
  },
  {
   "cell_type": "markdown",
   "metadata": {},
   "source": [
    "We see that our Knn Score actually is hindered, although this is to be expected as the data is normalized and distances between neighbors shrink. So we move on to SVMs. The radial basis function is chosen as the kernel, because the shape of the reduced dimensionality PCA data suggests that it could be effective."
   ]
  },
  {
   "cell_type": "code",
   "execution_count": 415,
   "metadata": {},
   "outputs": [
    {
     "name": "stdout",
     "output_type": "stream",
     "text": [
      "RBF SVM Score on Training data: 0.910654562828\n",
      "RBF SVM Score on Validation data: 0.729559748428\n"
     ]
    }
   ],
   "source": [
    "clf = SVC(kernel = 'rbf', probability=True)\n",
    "clf.fit(X_tr, y_tr)\n",
    "print(\"RBF SVM Score on Training data:\", clf.score(X_tr,y_tr))\n",
    "print(\"RBF SVM Score on Validation data:\", clf.score(X_val,y_val))"
   ]
  },
  {
   "cell_type": "markdown",
   "metadata": {},
   "source": [
    "This classification rate on our validation data is fairly reasonable, or at least comparable to our previous exercises. Different approaches considered are other SVMs, but the radial basis function kernel gives us the highest score on our validation data set. "
   ]
  },
  {
   "cell_type": "code",
   "execution_count": 416,
   "metadata": {
    "collapsed": true
   },
   "outputs": [],
   "source": [
    "pred_proba = clf.predict_proba(X_test)"
   ]
  },
  {
   "cell_type": "code",
   "execution_count": 417,
   "metadata": {
    "collapsed": true
   },
   "outputs": [],
   "source": [
    "# Execute this cell to export your results\n",
    "from numpy import savetxt\n",
    "def save_predictions(pred_proba):\n",
    "    if pred_proba.shape != (1114,2):\n",
    "        raise ValueError('Predicted probabilities array is not the right shape.')\n",
    "    \n",
    "    savetxt('assignment_3_predictions.txt', pred_proba)\n",
    "\n",
    "# You need to replace \"test_images_partB_pred_proba\"\n",
    "# with the name of the array which contains the probability \n",
    "# estimates for the data in the test set.\n",
    "save_predictions(pred_proba) "
   ]
  },
  {
   "cell_type": "markdown",
   "metadata": {
    "collapsed": true
   },
   "source": [
    "# Appendix"
   ]
  },
  {
   "cell_type": "markdown",
   "metadata": {},
   "source": [
    "## More information about visual words"
   ]
  },
  {
   "cell_type": "markdown",
   "metadata": {},
   "source": [
    "Visual words are based on [Scale-invariant feature transforms (SIFT)](https://en.wikipedia.org/wiki/Scale-invariant_feature_transform). SIFT features are essentially local orientation histograms and capture the properties of small image regions. They possess attractive invariance properties which make them well suited for our task (you can read more about SIFT features in [D.Lowe, IJCV 60(2):91- 110, 2004](http://link.springer.com/article/10.1023/B:VISI.0000029664.99615.94), but the details don't matter for the purpose of this assignment). Each SIFT feature is a 128 dimensional vector. From each image many SIFT features are extracted, typically > 2500 per image (features are extracted at regular intervals using a 15 pixel grid and at 4 different scales). To obtain visual words a representative subset of all extracted SIFT features from all images is chosen and clustered with k-means using 500 centres (such use of the k-means algorithm will be discussed in detail during the lecture). These 500 cluster centres form our visual words. The representation of a single image is obtained by first assigning each SIFT feature extracted from the image to the appropriate cluster (i.e. we determine the visual word corresponding to each feature by picking the closest cluster centre). We then count the number of features from that image assigned to each cluster (i.e. we determine how often each visual word is present in the image). This results in a 500 dimensional count vector for each image (one dimension for each visual word). The normalized version of this count vector gives the final representation of the image (normalized means that we divide the count vector by the total number of visual words in the image, i.e. the normalized counts sum to 1 for each image)"
   ]
  }
 ],
 "metadata": {
  "anaconda-cloud": {},
  "kernelspec": {
   "display_name": "Python 2",
   "language": "python",
   "name": "python2"
  },
  "language_info": {
   "codemirror_mode": {
    "name": "ipython",
    "version": 2
   },
   "file_extension": ".py",
   "mimetype": "text/x-python",
   "name": "python",
   "nbconvert_exporter": "python",
   "pygments_lexer": "ipython2",
   "version": "2.7.13"
  }
 },
 "nbformat": 4,
 "nbformat_minor": 1
}
